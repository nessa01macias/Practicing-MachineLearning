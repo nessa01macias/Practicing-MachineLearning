{
 "cells": [
  {
   "cell_type": "markdown",
   "id": "d0b9b6d9",
   "metadata": {},
   "source": [
    "## Mathematics and Methods in Machine Learning and Neural Networks\n",
    "Metropolia University of Applied Sciences <br>\n",
    "Ha Do, Melany Macias & Daniel R <br>\n",
    "06/02/2022 <br>"
   ]
  },
  {
   "cell_type": "code",
   "execution_count": 2,
   "id": "913f9efc",
   "metadata": {},
   "outputs": [],
   "source": [
    "import numpy as np\n",
    "import pandas as pd\n",
    "from sklearn import linear_model\n",
    "from sklearn.metrics import mean_squared_error, r2_score\n",
    "from sklearn.preprocessing import StandardScaler\n",
    "from sklearn.model_selection import train_test_split\n",
    "import matplotlib.pyplot as plt"
   ]
  },
  {
   "cell_type": "code",
   "execution_count": 3,
   "id": "749216e6",
   "metadata": {
    "scrolled": true
   },
   "outputs": [
    {
     "data": {
      "text/html": [
       "<div>\n",
       "<style scoped>\n",
       "    .dataframe tbody tr th:only-of-type {\n",
       "        vertical-align: middle;\n",
       "    }\n",
       "\n",
       "    .dataframe tbody tr th {\n",
       "        vertical-align: top;\n",
       "    }\n",
       "\n",
       "    .dataframe thead th {\n",
       "        text-align: right;\n",
       "    }\n",
       "</style>\n",
       "<table border=\"1\" class=\"dataframe\">\n",
       "  <thead>\n",
       "    <tr style=\"text-align: right;\">\n",
       "      <th></th>\n",
       "      <th>fixed acidity</th>\n",
       "      <th>volatile acidity</th>\n",
       "      <th>citric acid</th>\n",
       "      <th>residual sugar</th>\n",
       "      <th>chlorides</th>\n",
       "      <th>free sulfur dioxide</th>\n",
       "      <th>total sulfur dioxide</th>\n",
       "      <th>density</th>\n",
       "      <th>pH</th>\n",
       "      <th>sulphates</th>\n",
       "      <th>alcohol</th>\n",
       "      <th>quality</th>\n",
       "    </tr>\n",
       "  </thead>\n",
       "  <tbody>\n",
       "    <tr>\n",
       "      <th>0</th>\n",
       "      <td>7.4</td>\n",
       "      <td>0.70</td>\n",
       "      <td>0.00</td>\n",
       "      <td>1.9</td>\n",
       "      <td>0.076</td>\n",
       "      <td>11.0</td>\n",
       "      <td>34.0</td>\n",
       "      <td>0.9978</td>\n",
       "      <td>3.51</td>\n",
       "      <td>0.56</td>\n",
       "      <td>9.4</td>\n",
       "      <td>5</td>\n",
       "    </tr>\n",
       "    <tr>\n",
       "      <th>1</th>\n",
       "      <td>7.8</td>\n",
       "      <td>0.88</td>\n",
       "      <td>0.00</td>\n",
       "      <td>2.6</td>\n",
       "      <td>0.098</td>\n",
       "      <td>25.0</td>\n",
       "      <td>67.0</td>\n",
       "      <td>0.9968</td>\n",
       "      <td>3.20</td>\n",
       "      <td>0.68</td>\n",
       "      <td>9.8</td>\n",
       "      <td>5</td>\n",
       "    </tr>\n",
       "    <tr>\n",
       "      <th>2</th>\n",
       "      <td>7.8</td>\n",
       "      <td>0.76</td>\n",
       "      <td>0.04</td>\n",
       "      <td>2.3</td>\n",
       "      <td>0.092</td>\n",
       "      <td>15.0</td>\n",
       "      <td>54.0</td>\n",
       "      <td>0.9970</td>\n",
       "      <td>3.26</td>\n",
       "      <td>0.65</td>\n",
       "      <td>9.8</td>\n",
       "      <td>5</td>\n",
       "    </tr>\n",
       "    <tr>\n",
       "      <th>3</th>\n",
       "      <td>11.2</td>\n",
       "      <td>0.28</td>\n",
       "      <td>0.56</td>\n",
       "      <td>1.9</td>\n",
       "      <td>0.075</td>\n",
       "      <td>17.0</td>\n",
       "      <td>60.0</td>\n",
       "      <td>0.9980</td>\n",
       "      <td>3.16</td>\n",
       "      <td>0.58</td>\n",
       "      <td>9.8</td>\n",
       "      <td>6</td>\n",
       "    </tr>\n",
       "    <tr>\n",
       "      <th>4</th>\n",
       "      <td>7.4</td>\n",
       "      <td>0.70</td>\n",
       "      <td>0.00</td>\n",
       "      <td>1.9</td>\n",
       "      <td>0.076</td>\n",
       "      <td>11.0</td>\n",
       "      <td>34.0</td>\n",
       "      <td>0.9978</td>\n",
       "      <td>3.51</td>\n",
       "      <td>0.56</td>\n",
       "      <td>9.4</td>\n",
       "      <td>5</td>\n",
       "    </tr>\n",
       "  </tbody>\n",
       "</table>\n",
       "</div>"
      ],
      "text/plain": [
       "   fixed acidity  volatile acidity  citric acid  residual sugar  chlorides  \\\n",
       "0            7.4              0.70         0.00             1.9      0.076   \n",
       "1            7.8              0.88         0.00             2.6      0.098   \n",
       "2            7.8              0.76         0.04             2.3      0.092   \n",
       "3           11.2              0.28         0.56             1.9      0.075   \n",
       "4            7.4              0.70         0.00             1.9      0.076   \n",
       "\n",
       "   free sulfur dioxide  total sulfur dioxide  density    pH  sulphates  \\\n",
       "0                 11.0                  34.0   0.9978  3.51       0.56   \n",
       "1                 25.0                  67.0   0.9968  3.20       0.68   \n",
       "2                 15.0                  54.0   0.9970  3.26       0.65   \n",
       "3                 17.0                  60.0   0.9980  3.16       0.58   \n",
       "4                 11.0                  34.0   0.9978  3.51       0.56   \n",
       "\n",
       "   alcohol  quality  \n",
       "0      9.4        5  \n",
       "1      9.8        5  \n",
       "2      9.8        5  \n",
       "3      9.8        6  \n",
       "4      9.4        5  "
      ]
     },
     "execution_count": 3,
     "metadata": {},
     "output_type": "execute_result"
    }
   ],
   "source": [
    "df = pd.read_csv('winequality-red.csv', sep=';')\n",
    "df.head()"
   ]
  },
  {
   "cell_type": "markdown",
   "id": "66a5ba01",
   "metadata": {},
   "source": [
    "###  Pre-procesing the data"
   ]
  },
  {
   "cell_type": "code",
   "execution_count": 3,
   "id": "27307fa4",
   "metadata": {},
   "outputs": [
    {
     "data": {
      "text/plain": [
       "fixed acidity           float64\n",
       "volatile acidity        float64\n",
       "citric acid             float64\n",
       "residual sugar          float64\n",
       "chlorides               float64\n",
       "free sulfur dioxide     float64\n",
       "total sulfur dioxide    float64\n",
       "density                 float64\n",
       "pH                      float64\n",
       "sulphates               float64\n",
       "alcohol                 float64\n",
       "quality                 float64\n",
       "dtype: object"
      ]
     },
     "execution_count": 3,
     "metadata": {},
     "output_type": "execute_result"
    }
   ],
   "source": [
    "# Converting all the columns to the same datatype, float64\n",
    "for col in df:\n",
    "    df[col] = df[col].astype(dtype = 'float64')\n",
    "df.dtypes"
   ]
  },
  {
   "cell_type": "code",
   "execution_count": 4,
   "id": "8e20452c",
   "metadata": {},
   "outputs": [
    {
     "data": {
      "text/plain": [
       "fixed acidity           0\n",
       "volatile acidity        0\n",
       "citric acid             0\n",
       "residual sugar          0\n",
       "chlorides               0\n",
       "free sulfur dioxide     0\n",
       "total sulfur dioxide    0\n",
       "density                 0\n",
       "pH                      0\n",
       "sulphates               0\n",
       "alcohol                 0\n",
       "quality                 0\n",
       "dtype: int64"
      ]
     },
     "execution_count": 4,
     "metadata": {},
     "output_type": "execute_result"
    }
   ],
   "source": [
    "# Checking if there is missing data\n",
    "df.isnull().sum()"
   ]
  },
  {
   "cell_type": "code",
   "execution_count": 5,
   "id": "c0639013",
   "metadata": {},
   "outputs": [],
   "source": [
    "# Choosing quality as the variable to predict about\n",
    "X = df.drop(['alcohol'],axis=1)\n",
    "Y = df['alcohol']"
   ]
  },
  {
   "cell_type": "markdown",
   "id": "daef7efc",
   "metadata": {},
   "source": [
    "### Training the model"
   ]
  },
  {
   "cell_type": "code",
   "execution_count": 6,
   "id": "204ed330",
   "metadata": {},
   "outputs": [],
   "source": [
    "# Splitting the data\n",
    "X_train, X_test, Y_train, Y_test = train_test_split(X,Y, random_state=42)"
   ]
  },
  {
   "cell_type": "code",
   "execution_count": 7,
   "id": "f2856ae0",
   "metadata": {},
   "outputs": [
    {
     "data": {
      "text/plain": [
       "550.8197098905996"
      ]
     },
     "execution_count": 7,
     "metadata": {},
     "output_type": "execute_result"
    }
   ],
   "source": [
    "# Implementing the model\n",
    "reg = linear_model.LinearRegression()\n",
    "reg.fit(X_train,Y_train)\n",
    "\n",
    "reg.coef_\n",
    "reg.intercept_"
   ]
  },
  {
   "cell_type": "markdown",
   "id": "76a2c1e0",
   "metadata": {},
   "source": [
    "**What is the regression equation for estimating your chosen trait values?**"
   ]
  },
  {
   "cell_type": "code",
   "execution_count": 8,
   "id": "5a237288",
   "metadata": {},
   "outputs": [
    {
     "name": "stdout",
     "output_type": "stream",
     "text": [
      "The regression equation is alcohol = \n",
      "0.48142 * fixed acidity +  0.53984 * volatile acidity +  0.78901 * citric acid +  0.26515 * residual sugar +  -1.11315 * chlorides +  -0.00326 * free sulfur dioxide +  -0.00151 * total sulfur dioxide +  -561.06457 * density +  3.59131 * pH +  0.99483 * sulphates +  0.23825 * quality +  550.81971\n"
     ]
    }
   ],
   "source": [
    "print(\"The regression equation is alcohol = \" )\n",
    "i = 0\n",
    "for col in X.columns:\n",
    "    print(\"{} * {} + \".format(np.around((reg.coef_[i]),5), col), end = \" \")\n",
    "    i = i + 1\n",
    "print(\"{}\".format(np.around((reg.intercept_),5)))"
   ]
  },
  {
   "cell_type": "markdown",
   "id": "c4421c52",
   "metadata": {},
   "source": [
    "###  Evaluating the linear regression model"
   ]
  },
  {
   "cell_type": "code",
   "execution_count": 9,
   "id": "866c8177",
   "metadata": {},
   "outputs": [],
   "source": [
    "Y_predicted = reg.predict(X_test)"
   ]
  },
  {
   "cell_type": "markdown",
   "id": "513c51ef",
   "metadata": {},
   "source": [
    "**Provide a validation-based error estimate for your model.**"
   ]
  },
  {
   "cell_type": "markdown",
   "id": "408bce45",
   "metadata": {},
   "source": [
    "In order to evaluate how accurate are our estimated values, we compute the error statistics:\n"
   ]
  },
  {
   "cell_type": "code",
   "execution_count": 10,
   "id": "90d29dee",
   "metadata": {},
   "outputs": [
    {
     "name": "stdout",
     "output_type": "stream",
     "text": [
      "MSE =  0.3360616242513382\n",
      "R2s =  0.714563254137007\n"
     ]
    }
   ],
   "source": [
    "# Mean squared error\n",
    "mse = mean_squared_error(Y_test, Y_predicted)\n",
    "# Coefficient of multiple determination\n",
    "r2s = r2_score(Y_test,Y_predicted)\n",
    "print(\"MSE = \", mse)\n",
    "print(\"R2s = \", r2s)"
   ]
  },
  {
   "cell_type": "markdown",
   "id": "083213b6",
   "metadata": {},
   "source": [
    "The value of MSE is appropriate, as it is closer to zero, but not exactly zero, thus avoiding overfitting. The R2S percentage shows that there is a moderate level of correclation between the variables."
   ]
  },
  {
   "cell_type": "code",
   "execution_count": 11,
   "id": "9d82da99",
   "metadata": {},
   "outputs": [
    {
     "data": {
      "text/html": [
       "<div>\n",
       "<style scoped>\n",
       "    .dataframe tbody tr th:only-of-type {\n",
       "        vertical-align: middle;\n",
       "    }\n",
       "\n",
       "    .dataframe tbody tr th {\n",
       "        vertical-align: top;\n",
       "    }\n",
       "\n",
       "    .dataframe thead th {\n",
       "        text-align: right;\n",
       "    }\n",
       "</style>\n",
       "<table border=\"1\" class=\"dataframe\">\n",
       "  <thead>\n",
       "    <tr style=\"text-align: right;\">\n",
       "      <th></th>\n",
       "      <th>Observed</th>\n",
       "      <th>Predicted</th>\n",
       "      <th>Residual</th>\n",
       "    </tr>\n",
       "  </thead>\n",
       "  <tbody>\n",
       "    <tr>\n",
       "      <th>0</th>\n",
       "      <td>9.6</td>\n",
       "      <td>9.597532</td>\n",
       "      <td>0.002468</td>\n",
       "    </tr>\n",
       "    <tr>\n",
       "      <th>1</th>\n",
       "      <td>9.5</td>\n",
       "      <td>10.112614</td>\n",
       "      <td>-0.612614</td>\n",
       "    </tr>\n",
       "    <tr>\n",
       "      <th>2</th>\n",
       "      <td>9.9</td>\n",
       "      <td>9.891249</td>\n",
       "      <td>0.008751</td>\n",
       "    </tr>\n",
       "    <tr>\n",
       "      <th>3</th>\n",
       "      <td>9.8</td>\n",
       "      <td>9.467810</td>\n",
       "      <td>0.332190</td>\n",
       "    </tr>\n",
       "    <tr>\n",
       "      <th>4</th>\n",
       "      <td>10.6</td>\n",
       "      <td>10.791938</td>\n",
       "      <td>-0.191938</td>\n",
       "    </tr>\n",
       "    <tr>\n",
       "      <th>...</th>\n",
       "      <td>...</td>\n",
       "      <td>...</td>\n",
       "      <td>...</td>\n",
       "    </tr>\n",
       "    <tr>\n",
       "      <th>395</th>\n",
       "      <td>10.9</td>\n",
       "      <td>10.932793</td>\n",
       "      <td>-0.032793</td>\n",
       "    </tr>\n",
       "    <tr>\n",
       "      <th>396</th>\n",
       "      <td>11.5</td>\n",
       "      <td>11.302555</td>\n",
       "      <td>0.197445</td>\n",
       "    </tr>\n",
       "    <tr>\n",
       "      <th>397</th>\n",
       "      <td>9.9</td>\n",
       "      <td>9.947330</td>\n",
       "      <td>-0.047330</td>\n",
       "    </tr>\n",
       "    <tr>\n",
       "      <th>398</th>\n",
       "      <td>9.3</td>\n",
       "      <td>9.479809</td>\n",
       "      <td>-0.179809</td>\n",
       "    </tr>\n",
       "    <tr>\n",
       "      <th>399</th>\n",
       "      <td>11.1</td>\n",
       "      <td>11.444157</td>\n",
       "      <td>-0.344157</td>\n",
       "    </tr>\n",
       "  </tbody>\n",
       "</table>\n",
       "<p>400 rows × 3 columns</p>\n",
       "</div>"
      ],
      "text/plain": [
       "     Observed  Predicted  Residual\n",
       "0         9.6   9.597532  0.002468\n",
       "1         9.5  10.112614 -0.612614\n",
       "2         9.9   9.891249  0.008751\n",
       "3         9.8   9.467810  0.332190\n",
       "4        10.6  10.791938 -0.191938\n",
       "..        ...        ...       ...\n",
       "395      10.9  10.932793 -0.032793\n",
       "396      11.5  11.302555  0.197445\n",
       "397       9.9   9.947330 -0.047330\n",
       "398       9.3   9.479809 -0.179809\n",
       "399      11.1  11.444157 -0.344157\n",
       "\n",
       "[400 rows x 3 columns]"
      ]
     },
     "execution_count": 11,
     "metadata": {},
     "output_type": "execute_result"
    }
   ],
   "source": [
    "# Merging the observed & predicted values, along with the residuals.\n",
    "merged_df = pd.DataFrame({'Observed': Y_test,'Predicted': Y_predicted, 'Residual': (Y_test -Y_predicted)})\n",
    "merged_df = merged_df.reset_index() \n",
    "merged_df = merged_df.drop(['index'], axis = 1)\n",
    "merged_df"
   ]
  },
  {
   "cell_type": "markdown",
   "id": "b2aff223",
   "metadata": {},
   "source": [
    "Plot observed vs predicted values:"
   ]
  },
  {
   "cell_type": "code",
   "execution_count": 12,
   "id": "7af1bdfa",
   "metadata": {},
   "outputs": [
    {
     "data": {
      "image/png": "[encoded data removed]",
      "text/plain": [
       "<Figure size 432x288 with 1 Axes>"
      ]
     },
     "metadata": {
      "needs_background": "light"
     },
     "output_type": "display_data"
    },
    {
     "data": {
      "text/plain": [
       "<Figure size 720x360 with 0 Axes>"
      ]
     },
     "metadata": {},
     "output_type": "display_data"
    }
   ],
   "source": [
    "merged_df.plot.scatter(x='Observed', y='Predicted')\n",
    "plt.plot(Y_predicted, Y_predicted, color='black', linewidth=1)\n",
    "plt.xlabel(\"Observed\")\n",
    "plt.ylabel(\"Predicted\")\n",
    "plt.figure(figsize=(10,5))\n",
    "plt.show()"
   ]
  },
  {
   "cell_type": "markdown",
   "id": "1e310231",
   "metadata": {},
   "source": [
    "Plot residuals: CHECK OUT"
   ]
  },
  {
   "cell_type": "code",
   "execution_count": 19,
   "id": "c5744356",
   "metadata": {},
   "outputs": [
    {
     "data": {
      "text/plain": [
       "<Figure size 432x288 with 0 Axes>"
      ]
     },
     "metadata": {},
     "output_type": "display_data"
    },
    {
     "data": {
      "image/png": "[encoded data removed]",
      "text/plain": [
       "<Figure size 432x288 with 1 Axes>"
      ]
     },
     "metadata": {
      "needs_background": "light"
     },
     "output_type": "display_data"
    }
   ],
   "source": [
    "plt.figure()\n",
    "merged_df.plot.scatter(x='Observed', y='Residual')\n",
    "plt.plot([5,15], [-3,3], color='black', linewidth=2)\n",
    "plt.show()"
   ]
  },
  {
   "cell_type": "markdown",
   "id": "69de5e91",
   "metadata": {},
   "source": [
    "The scatterplot looks pretty symmetrical. "
   ]
  },
  {
   "cell_type": "markdown",
   "id": "623e520c",
   "metadata": {},
   "source": [
    "### Finding the most statistically significant variables"
   ]
  },
  {
   "cell_type": "code",
   "execution_count": 14,
   "id": "9a6b00a9",
   "metadata": {},
   "outputs": [
    {
     "data": {
      "text/plain": [
       "LinearRegression()"
      ]
     },
     "execution_count": 14,
     "metadata": {},
     "output_type": "execute_result"
    }
   ],
   "source": [
    "# creating the new normalized df with standardized coefficients \n",
    "scaler = StandardScaler()\n",
    "dfn = pd.DataFrame(scaler.fit_transform(df))\n",
    "dfn.columns = [\"fixed acidity\",\"volatile acidity\",\"citric acid\",\"residual sugar\",\"chlorides\",\"free sulfur dioxide\",\"total sulfur dioxide\",\"density\",\"pH\",\"sulphates\",\"alcohol\",\"quality\"]\n",
    "\n",
    "# creating X, Y again\n",
    "Xn = dfn.drop(['alcohol'],axis=1)\n",
    "Yn= dfn['alcohol']\n",
    "\n",
    "# fit method to predict the model with standardize\n",
    "reg2 = linear_model.LinearRegression()\n",
    "reg2.fit(Xn,Yn)"
   ]
  },
  {
   "cell_type": "code",
   "execution_count": 15,
   "id": "c773941a",
   "metadata": {},
   "outputs": [
    {
     "name": "stdout",
     "output_type": "stream",
     "text": [
      "Standardized variables...\n",
      "\n",
      "Coefficients:\n",
      "0.8046180300596668 from fixed acidity \n",
      "0.09902202862069136 from volatile acidity \n",
      "0.14984755141699288 from citric acid \n",
      "0.34713619823299796 from residual sugar \n",
      "-0.04120413007529467 from chlorides \n",
      "-0.029629589661335286 from free sulfur dioxide \n",
      "-0.04292053632899271 from total sulfur dioxide \n",
      "-1.0159257089504612 from density \n",
      "0.5240119115790907 from pH \n",
      "0.15175013409586052 from sulphates \n",
      "0.17597828998133996 from quality \n",
      "Intercept: -3.7027157813153165e-14\n"
     ]
    }
   ],
   "source": [
    "print(\"Standardized variables...\\n\")\n",
    "\n",
    "print(\"Coefficients:\")\n",
    "i = 0\n",
    "for col in Xn.columns:\n",
    "    print(\"{} from {} \".format(reg2.coef_[i], col))\n",
    "    i = i +1\n",
    "    \n",
    "print(\"Intercept:\", reg2.intercept_)"
   ]
  },
  {
   "cell_type": "code",
   "execution_count": 16,
   "id": "e7fe83b0",
   "metadata": {},
   "outputs": [
    {
     "data": {
      "text/plain": [
       "array([ 0.80461803,  0.52401191,  0.3471362 ,  0.17597829,  0.15175013,\n",
       "        0.14984755,  0.09902203, -0.02962959, -0.04120413, -0.04292054,\n",
       "       -1.01592571])"
      ]
     },
     "execution_count": 16,
     "metadata": {},
     "output_type": "execute_result"
    }
   ],
   "source": [
    "# printing the coefficients in order\n",
    "reg2.coef_.sort()\n",
    "reg2.coef_[::-1]"
   ]
  },
  {
   "cell_type": "markdown",
   "id": "73ed347a",
   "metadata": {},
   "source": [
    "**What are the five most useful variables for estimating the trait values?**"
   ]
  },
  {
   "cell_type": "code",
   "execution_count": 17,
   "id": "d8c98ce4",
   "metadata": {},
   "outputs": [
    {
     "name": "stdout",
     "output_type": "stream",
     "text": [
      "The most useful variables are:\n",
      "1. Fixed acidity \n",
      "2. pH\n",
      "3. Residual Sugar\n",
      "4. Quality\n",
      "5. Sulphates\n"
     ]
    }
   ],
   "source": [
    "print(\"The most useful variables are:\")\n",
    "print(\"1. Fixed acidity \")\n",
    "print(\"2. pH\")\n",
    "print(\"3. Residual Sugar\")\n",
    "print(\"4. Quality\")\n",
    "print(\"5. Sulphates\")"
   ]
  }
 ],
 "metadata": {
  "kernelspec": {
   "display_name": "Python 3 (ipykernel)",
   "language": "python",
   "name": "python3"
  },
  "language_info": {
   "codemirror_mode": {
    "name": "ipython",
    "version": 3
   },
   "file_extension": ".py",
   "mimetype": "text/x-python",
   "name": "python",
   "nbconvert_exporter": "python",
   "pygments_lexer": "ipython3",
   "version": "3.9.7"
  }
 },
 "nbformat": 4,
 "nbformat_minor": 5
}
