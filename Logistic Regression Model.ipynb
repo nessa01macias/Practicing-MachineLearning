{
 "cells": [
  {
   "cell_type": "markdown",
   "id": "68cbb83b",
   "metadata": {},
   "source": [
    "## Assignment: Logistic regression\n",
    "Melany Macias, Ha Do & Daniel Ridzon <br>\n",
    "2/14/2022 <br>"
   ]
  },
  {
   "cell_type": "markdown",
   "id": "b09aff59",
   "metadata": {},
   "source": [
    "The **goal** of the assigment is to conduct a logistic regression analysis that will predict the probability of a patient having a vertebral abnormality."
   ]
  },
  {
   "cell_type": "code",
   "execution_count": 8,
   "id": "9557b22a",
   "metadata": {},
   "outputs": [],
   "source": [
    "import numpy as np\n",
    "import pandas as pd\n",
    "from scipy.io.arff import loadarff \n",
    "from sklearn.model_selection import train_test_split\n",
    "from sklearn.linear_model import LogisticRegression\n",
    "from sklearn.metrics import confusion_matrix\n",
    "from sklearn.metrics import classification_report\n",
    "from sklearn.preprocessing import LabelEncoder\n",
    "from sklearn import preprocessing\n",
    "from sklearn.metrics import accuracy_score\n",
    "from sklearn.metrics import classification_report\n",
    "\n",
    "import seaborn as sns\n",
    "import matplotlib.pyplot as plt     \n",
    "\n"
   ]
  },
  {
   "cell_type": "code",
   "execution_count": 9,
   "id": "c293ccca",
   "metadata": {
    "scrolled": true
   },
   "outputs": [
    {
     "data": {
      "text/html": [
       "<div>\n",
       "<style scoped>\n",
       "    .dataframe tbody tr th:only-of-type {\n",
       "        vertical-align: middle;\n",
       "    }\n",
       "\n",
       "    .dataframe tbody tr th {\n",
       "        vertical-align: top;\n",
       "    }\n",
       "\n",
       "    .dataframe thead th {\n",
       "        text-align: right;\n",
       "    }\n",
       "</style>\n",
       "<table border=\"1\" class=\"dataframe\">\n",
       "  <thead>\n",
       "    <tr style=\"text-align: right;\">\n",
       "      <th></th>\n",
       "      <th>pelvic_incidence</th>\n",
       "      <th>pelvic_tilt</th>\n",
       "      <th>lumbar_lordosis_angle</th>\n",
       "      <th>sacral_slope</th>\n",
       "      <th>pelvic_radius</th>\n",
       "      <th>degree_spondylolisthesis</th>\n",
       "      <th>class</th>\n",
       "    </tr>\n",
       "  </thead>\n",
       "  <tbody>\n",
       "    <tr>\n",
       "      <th>0</th>\n",
       "      <td>63.027817</td>\n",
       "      <td>22.552586</td>\n",
       "      <td>39.609117</td>\n",
       "      <td>40.475232</td>\n",
       "      <td>98.672917</td>\n",
       "      <td>-0.254400</td>\n",
       "      <td>Hernia</td>\n",
       "    </tr>\n",
       "    <tr>\n",
       "      <th>1</th>\n",
       "      <td>39.056951</td>\n",
       "      <td>10.060991</td>\n",
       "      <td>25.015378</td>\n",
       "      <td>28.995960</td>\n",
       "      <td>114.405425</td>\n",
       "      <td>4.564259</td>\n",
       "      <td>Hernia</td>\n",
       "    </tr>\n",
       "    <tr>\n",
       "      <th>2</th>\n",
       "      <td>68.832021</td>\n",
       "      <td>22.218482</td>\n",
       "      <td>50.092194</td>\n",
       "      <td>46.613539</td>\n",
       "      <td>105.985135</td>\n",
       "      <td>-3.530317</td>\n",
       "      <td>Hernia</td>\n",
       "    </tr>\n",
       "    <tr>\n",
       "      <th>3</th>\n",
       "      <td>69.297008</td>\n",
       "      <td>24.652878</td>\n",
       "      <td>44.311238</td>\n",
       "      <td>44.644130</td>\n",
       "      <td>101.868495</td>\n",
       "      <td>11.211523</td>\n",
       "      <td>Hernia</td>\n",
       "    </tr>\n",
       "    <tr>\n",
       "      <th>4</th>\n",
       "      <td>49.712859</td>\n",
       "      <td>9.652075</td>\n",
       "      <td>28.317406</td>\n",
       "      <td>40.060784</td>\n",
       "      <td>108.168725</td>\n",
       "      <td>7.918501</td>\n",
       "      <td>Hernia</td>\n",
       "    </tr>\n",
       "  </tbody>\n",
       "</table>\n",
       "</div>"
      ],
      "text/plain": [
       "   pelvic_incidence  pelvic_tilt  lumbar_lordosis_angle  sacral_slope  \\\n",
       "0         63.027817    22.552586              39.609117     40.475232   \n",
       "1         39.056951    10.060991              25.015378     28.995960   \n",
       "2         68.832021    22.218482              50.092194     46.613539   \n",
       "3         69.297008    24.652878              44.311238     44.644130   \n",
       "4         49.712859     9.652075              28.317406     40.060784   \n",
       "\n",
       "   pelvic_radius  degree_spondylolisthesis   class  \n",
       "0      98.672917                 -0.254400  Hernia  \n",
       "1     114.405425                  4.564259  Hernia  \n",
       "2     105.985135                 -3.530317  Hernia  \n",
       "3     101.868495                 11.211523  Hernia  \n",
       "4     108.168725                  7.918501  Hernia  "
      ]
     },
     "execution_count": 9,
     "metadata": {},
     "output_type": "execute_result"
    }
   ],
   "source": [
    "raw_data = loadarff('column_3C_weka.arff')\n",
    "df = pd.DataFrame(raw_data[0])\n",
    "df['class'] = df['class'].str.decode('utf-8') \n",
    "df.head()"
   ]
  },
  {
   "cell_type": "markdown",
   "id": "b15fd75d",
   "metadata": {},
   "source": [
    "###  Pre-procesing the data"
   ]
  },
  {
   "cell_type": "code",
   "execution_count": 10,
   "id": "1ad122c1",
   "metadata": {},
   "outputs": [
    {
     "name": "stdout",
     "output_type": "stream",
     "text": [
      "<class 'pandas.core.frame.DataFrame'>\n",
      "RangeIndex: 310 entries, 0 to 309\n",
      "Data columns (total 7 columns):\n",
      " #   Column                    Non-Null Count  Dtype  \n",
      "---  ------                    --------------  -----  \n",
      " 0   pelvic_incidence          310 non-null    float64\n",
      " 1   pelvic_tilt               310 non-null    float64\n",
      " 2   lumbar_lordosis_angle     310 non-null    float64\n",
      " 3   sacral_slope              310 non-null    float64\n",
      " 4   pelvic_radius             310 non-null    float64\n",
      " 5   degree_spondylolisthesis  310 non-null    float64\n",
      " 6   class                     310 non-null    object \n",
      "dtypes: float64(6), object(1)\n",
      "memory usage: 17.1+ KB\n"
     ]
    }
   ],
   "source": [
    "# Checking all the columns types, missing values...\n",
    "df.info()"
   ]
  },
  {
   "cell_type": "code",
   "execution_count": 11,
   "id": "b45e0b6d",
   "metadata": {},
   "outputs": [
    {
     "data": {
      "text/plain": [
       "pelvic_incidence            float64\n",
       "pelvic_tilt                 float64\n",
       "lumbar_lordosis_angle       float64\n",
       "sacral_slope                float64\n",
       "pelvic_radius               float64\n",
       "degree_spondylolisthesis    float64\n",
       "dtype: object"
      ]
     },
     "execution_count": 11,
     "metadata": {},
     "output_type": "execute_result"
    }
   ],
   "source": [
    "# Separating the data from the class(the target feature) to predict\n",
    "X = df.drop(['class'],axis=1)\n",
    "Y = df['class']\n",
    "X.dtypes"
   ]
  },
  {
   "cell_type": "code",
   "execution_count": 12,
   "id": "66d26c22",
   "metadata": {},
   "outputs": [
    {
     "data": {
      "text/plain": [
       "2    150\n",
       "1    100\n",
       "0     60\n",
       "Name: Class, dtype: int64"
      ]
     },
     "execution_count": 12,
     "metadata": {},
     "output_type": "execute_result"
    }
   ],
   "source": [
    "# Converting the categorical \"Class\" target feature to a numerical one.\n",
    "le = preprocessing.LabelEncoder()\n",
    "Y = le.fit_transform(Y)\n",
    "Y = pd.DataFrame(Y, columns = ['Class'])\n",
    "Y['Class'].value_counts() \n"
   ]
  },
  {
   "cell_type": "code",
   "execution_count": 13,
   "id": "e7ac71c2",
   "metadata": {},
   "outputs": [
    {
     "name": "stdout",
     "output_type": "stream",
     "text": [
      " Hernia = 0, Normal = 1, spondylolisthesis = 2\n"
     ]
    }
   ],
   "source": [
    "# Creating a class for the names so it is easier to plot the confusion matrix later\n",
    "print(\" Hernia = 0, Normal = 1, spondylolisthesis = 2\")\n",
    "class_names = [\"Hernia\",\"Normal\",\"Spondylolisthesis\"]"
   ]
  },
  {
   "cell_type": "markdown",
   "id": "b6853e16",
   "metadata": {},
   "source": [
    "### Training the model"
   ]
  },
  {
   "cell_type": "code",
   "execution_count": 14,
   "id": "10423ce2",
   "metadata": {},
   "outputs": [
    {
     "name": "stdout",
     "output_type": "stream",
     "text": [
      "Size of X_train is 232 and size of X_test is 78\n"
     ]
    }
   ],
   "source": [
    "# Splitting the data\n",
    "X_train,X_test, y_train, y_test = train_test_split(X,Y, stratify= Y, random_state =100)\n",
    "print(f\"Size of X_train is {len(X_train)} and size of X_test is {len(X_test)}\")"
   ]
  },
  {
   "cell_type": "code",
   "execution_count": 15,
   "id": "1eb7fe56",
   "metadata": {},
   "outputs": [
    {
     "name": "stdout",
     "output_type": "stream",
     "text": [
      "Coefficients:  [[-0.03626102  0.06556622 -0.01388205 -0.10182754 -0.06799356 -0.08945579]\n",
      " [-0.01007061 -0.05498052  0.01639292  0.04491038  0.06749524 -0.09325722]\n",
      " [ 0.04633163 -0.0105857  -0.00251087  0.05691716  0.00049832  0.182713  ]]\n",
      "\n",
      "Intercept:  [14.23431184 -7.24853321 -6.98577862]\n"
     ]
    },
    {
     "name": "stderr",
     "output_type": "stream",
     "text": [
      "C:\\Anaconda\\envs\\tensorflow\\lib\\site-packages\\sklearn\\utils\\validation.py:993: DataConversionWarning: A column-vector y was passed when a 1d array was expected. Please change the shape of y to (n_samples, ), for example using ravel().\n",
      "  y = column_or_1d(y, warn=True)\n"
     ]
    }
   ],
   "source": [
    "# Implementing the model\n",
    "model = LogisticRegression(max_iter=10000)\n",
    "model.fit(X_train, y_train)\n",
    "\n",
    "print(\"Coefficients: \", model.coef_)\n",
    "print(\"\\nIntercept: \", model.intercept_)"
   ]
  },
  {
   "cell_type": "markdown",
   "id": "2f3bcf64",
   "metadata": {},
   "source": [
    "###  Evaluating the linear regression model"
   ]
  },
  {
   "cell_type": "code",
   "execution_count": 16,
   "id": "0a81f75c",
   "metadata": {},
   "outputs": [
    {
     "name": "stdout",
     "output_type": "stream",
     "text": [
      "Accurary on Test data:  0.8717948717948718\n",
      "The percentage seems accurate.\n"
     ]
    }
   ],
   "source": [
    "# Accuracy score of the model, comparing the predicted values with the actual values to test.\n",
    "Y_predicted = model.predict(X_test)\n",
    "training_data_accuracy = accuracy_score(Y_predicted, y_test)\n",
    "print(\"Accurary on Test data: \", training_data_accuracy)\n",
    "print(\"The percentage seems accurate.\")"
   ]
  },
  {
   "cell_type": "code",
   "execution_count": 17,
   "id": "26714fcc",
   "metadata": {},
   "outputs": [
    {
     "data": {
      "text/html": [
       "<div>\n",
       "<style scoped>\n",
       "    .dataframe tbody tr th:only-of-type {\n",
       "        vertical-align: middle;\n",
       "    }\n",
       "\n",
       "    .dataframe tbody tr th {\n",
       "        vertical-align: top;\n",
       "    }\n",
       "\n",
       "    .dataframe thead th {\n",
       "        text-align: right;\n",
       "    }\n",
       "</style>\n",
       "<table border=\"1\" class=\"dataframe\">\n",
       "  <thead>\n",
       "    <tr style=\"text-align: right;\">\n",
       "      <th></th>\n",
       "      <th>Hernia</th>\n",
       "      <th>Normal</th>\n",
       "      <th>Spondylolisthesis</th>\n",
       "    </tr>\n",
       "  </thead>\n",
       "  <tbody>\n",
       "    <tr>\n",
       "      <th>Hernia</th>\n",
       "      <td>11</td>\n",
       "      <td>3</td>\n",
       "      <td>1</td>\n",
       "    </tr>\n",
       "    <tr>\n",
       "      <th>Normal</th>\n",
       "      <td>4</td>\n",
       "      <td>20</td>\n",
       "      <td>1</td>\n",
       "    </tr>\n",
       "    <tr>\n",
       "      <th>Spondylolisthesis</th>\n",
       "      <td>0</td>\n",
       "      <td>1</td>\n",
       "      <td>37</td>\n",
       "    </tr>\n",
       "  </tbody>\n",
       "</table>\n",
       "</div>"
      ],
      "text/plain": [
       "                   Hernia  Normal  Spondylolisthesis\n",
       "Hernia                 11       3                  1\n",
       "Normal                  4      20                  1\n",
       "Spondylolisthesis       0       1                 37"
      ]
     },
     "execution_count": 17,
     "metadata": {},
     "output_type": "execute_result"
    }
   ],
   "source": [
    "## Confusion matrix\n",
    "cm = confusion_matrix(y_test, Y_predicted)\n",
    "cm_df = pd.DataFrame(cm, index = class_names, columns = class_names)\n",
    "cm_df"
   ]
  },
  {
   "cell_type": "code",
   "execution_count": 18,
   "id": "c7ac3c0d",
   "metadata": {
    "scrolled": true
   },
   "outputs": [
    {
     "data": {
      "text/plain": [
       "Text(0.5, 1.0, 'Confusion Matrix')"
      ]
     },
     "execution_count": 18,
     "metadata": {},
     "output_type": "execute_result"
    },
    {
     "data": {
      "image/png": "[encoded data removed]",
      "text/plain": [
       "<Figure size 432x288 with 2 Axes>"
      ]
     },
     "metadata": {
      "needs_background": "light"
     },
     "output_type": "display_data"
    }
   ],
   "source": [
    "ax = plt.subplot()\n",
    "sns.heatmap(cm_df, annot=True)\n",
    "\n",
    "ax.set_xlabel('Predicted labels')\n",
    "ax.set_ylabel('True labels'); \n",
    "ax.set_title('Confusion Matrix')"
   ]
  },
  {
   "cell_type": "markdown",
   "id": "953544ec",
   "metadata": {},
   "source": [
    "As we can observe from the confusion matrix and the accuracy score, the logistic regression model has been implemented properly. More conclusions can be made from the classification report below:"
   ]
  },
  {
   "cell_type": "code",
   "execution_count": 19,
   "id": "5639b46f",
   "metadata": {},
   "outputs": [
    {
     "name": "stdout",
     "output_type": "stream",
     "text": [
      "                   precision    recall  f1-score   support\n",
      "\n",
      "           Hernia       0.73      0.73      0.73        15\n",
      "           Normal       0.83      0.80      0.82        25\n",
      "Spondylolisthesis       0.95      0.97      0.96        38\n",
      "\n",
      "         accuracy                           0.87        78\n",
      "        macro avg       0.84      0.84      0.84        78\n",
      "     weighted avg       0.87      0.87      0.87        78\n",
      "\n"
     ]
    }
   ],
   "source": [
    "print(classification_report (y_test , Y_predicted, target_names = class_names))"
   ]
  },
  {
   "cell_type": "markdown",
   "id": "8676eb05",
   "metadata": {},
   "source": [
    "The recall (\"true positive\") value shows that how succesfull the model is according to the actual disease and what we have predicted one. When the actual disease is Spondylolisthesis, with 97% of accuracy we have predicted it correctly. "
   ]
  }
 ],
 "metadata": {
  "kernelspec": {
   "display_name": "Python 3 (ipykernel)",
   "language": "python",
   "name": "python3"
  },
  "language_info": {
   "codemirror_mode": {
    "name": "ipython",
    "version": 3
   },
   "file_extension": ".py",
   "mimetype": "text/x-python",
   "name": "python",
   "nbconvert_exporter": "python",
   "pygments_lexer": "ipython3",
   "version": "3.9.7"
  }
 },
 "nbformat": 4,
 "nbformat_minor": 5
}
